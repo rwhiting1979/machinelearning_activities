{
 "cells": [
  {
   "cell_type": "code",
   "execution_count": 13,
   "metadata": {},
   "outputs": [],
   "source": [
    "# Import the modules\n",
    "import pandas as pd\n",
    "from pathlib import Path\n",
    "import hvplot.pandas\n",
    "from sklearn.cluster import KMeans"
   ]
  },
  {
   "cell_type": "code",
   "execution_count": 14,
   "metadata": {},
   "outputs": [
    {
     "data": {
      "text/html": [
       "<div>\n",
       "<style scoped>\n",
       "    .dataframe tbody tr th:only-of-type {\n",
       "        vertical-align: middle;\n",
       "    }\n",
       "\n",
       "    .dataframe tbody tr th {\n",
       "        vertical-align: top;\n",
       "    }\n",
       "\n",
       "    .dataframe thead th {\n",
       "        text-align: right;\n",
       "    }\n",
       "</style>\n",
       "<table border=\"1\" class=\"dataframe\">\n",
       "  <thead>\n",
       "    <tr style=\"text-align: right;\">\n",
       "      <th></th>\n",
       "      <th>mobile_app_rating</th>\n",
       "      <th>personal_banker_rating</th>\n",
       "    </tr>\n",
       "  </thead>\n",
       "  <tbody>\n",
       "    <tr>\n",
       "      <th>0</th>\n",
       "      <td>3.50</td>\n",
       "      <td>2.40</td>\n",
       "    </tr>\n",
       "    <tr>\n",
       "      <th>1</th>\n",
       "      <td>3.65</td>\n",
       "      <td>3.14</td>\n",
       "    </tr>\n",
       "    <tr>\n",
       "      <th>2</th>\n",
       "      <td>2.90</td>\n",
       "      <td>2.75</td>\n",
       "    </tr>\n",
       "    <tr>\n",
       "      <th>3</th>\n",
       "      <td>2.93</td>\n",
       "      <td>3.36</td>\n",
       "    </tr>\n",
       "    <tr>\n",
       "      <th>4</th>\n",
       "      <td>2.89</td>\n",
       "      <td>2.62</td>\n",
       "    </tr>\n",
       "  </tbody>\n",
       "</table>\n",
       "</div>"
      ],
      "text/plain": [
       "   mobile_app_rating  personal_banker_rating\n",
       "0               3.50                    2.40\n",
       "1               3.65                    3.14\n",
       "2               2.90                    2.75\n",
       "3               2.93                    3.36\n",
       "4               2.89                    2.62"
      ]
     },
     "execution_count": 14,
     "metadata": {},
     "output_type": "execute_result"
    }
   ],
   "source": [
    "# Read in the CSV file as a Pandas DataFrame\n",
    "service_ratings_df = pd.read_csv(\n",
    "    Path(\"service_ratings.csv\")\n",
    ")\n",
    "\n",
    "# Review the DataFrame\n",
    "service_ratings_df.head()"
   ]
  },
  {
   "cell_type": "code",
   "execution_count": 15,
   "metadata": {},
   "outputs": [],
   "source": [
    "# Create a a list to store inertia values and the values of k\n",
    "inertia = []\n",
    "k = list(range(1, 11))"
   ]
  },
  {
   "cell_type": "code",
   "execution_count": 16,
   "metadata": {},
   "outputs": [
    {
     "name": "stderr",
     "output_type": "stream",
     "text": [
      "C:\\Users\\rwhit\\anaconda3\\envs\\dev\\lib\\site-packages\\sklearn\\cluster\\_kmeans.py:1037: UserWarning: KMeans is known to have a memory leak on Windows with MKL, when there are less chunks than available threads. You can avoid it by setting the environment variable OMP_NUM_THREADS=1.\n",
      "  \"KMeans is known to have a memory leak on Windows \"\n"
     ]
    }
   ],
   "source": [
    "# Create a for-loop where each value of k is evaluated using the K-means algorithm\n",
    "# Fit the model using the service_ratings DataFrame\n",
    "# Append the value of the computed inertia from the `inertia_` attribute of the KMeans model instance\n",
    "for i in k:\n",
    "    k_model = KMeans(n_clusters=i, random_state=1)\n",
    "    k_model.fit(service_ratings_df)\n",
    "    inertia.append(k_model.inertia_)"
   ]
  },
  {
   "cell_type": "code",
   "execution_count": 17,
   "metadata": {},
   "outputs": [
    {
     "data": {
      "text/html": [
       "<div>\n",
       "<style scoped>\n",
       "    .dataframe tbody tr th:only-of-type {\n",
       "        vertical-align: middle;\n",
       "    }\n",
       "\n",
       "    .dataframe tbody tr th {\n",
       "        vertical-align: top;\n",
       "    }\n",
       "\n",
       "    .dataframe thead th {\n",
       "        text-align: right;\n",
       "    }\n",
       "</style>\n",
       "<table border=\"1\" class=\"dataframe\">\n",
       "  <thead>\n",
       "    <tr style=\"text-align: right;\">\n",
       "      <th></th>\n",
       "      <th>k</th>\n",
       "      <th>inertia</th>\n",
       "    </tr>\n",
       "  </thead>\n",
       "  <tbody>\n",
       "    <tr>\n",
       "      <th>0</th>\n",
       "      <td>1</td>\n",
       "      <td>122.472196</td>\n",
       "    </tr>\n",
       "    <tr>\n",
       "      <th>1</th>\n",
       "      <td>2</td>\n",
       "      <td>77.080190</td>\n",
       "    </tr>\n",
       "    <tr>\n",
       "      <th>2</th>\n",
       "      <td>3</td>\n",
       "      <td>58.443470</td>\n",
       "    </tr>\n",
       "    <tr>\n",
       "      <th>3</th>\n",
       "      <td>4</td>\n",
       "      <td>42.595218</td>\n",
       "    </tr>\n",
       "    <tr>\n",
       "      <th>4</th>\n",
       "      <td>5</td>\n",
       "      <td>34.624700</td>\n",
       "    </tr>\n",
       "  </tbody>\n",
       "</table>\n",
       "</div>"
      ],
      "text/plain": [
       "   k     inertia\n",
       "0  1  122.472196\n",
       "1  2   77.080190\n",
       "2  3   58.443470\n",
       "3  4   42.595218\n",
       "4  5   34.624700"
      ]
     },
     "execution_count": 17,
     "metadata": {},
     "output_type": "execute_result"
    }
   ],
   "source": [
    "# Define a DataFrame to hold the values for k and the corresponding inertia\n",
    "elbow_data = {\"k\": k, \"inertia\": inertia}\n",
    "df_elbow = pd.DataFrame(elbow_data)\n",
    "\n",
    "# Review the DataFrame\n",
    "df_elbow.head()"
   ]
  },
  {
   "cell_type": "code",
   "execution_count": 18,
   "metadata": {},
   "outputs": [
    {
     "data": {},
     "metadata": {},
     "output_type": "display_data"
    },
    {
     "data": {
      "application/vnd.holoviews_exec.v0+json": "",
      "text/html": [
       "<div id='1002'>\n",
       "  <div class=\"bk-root\" id=\"1e1f2b6c-5c70-46d4-9ec7-1a8909272df1\" data-root-id=\"1002\"></div>\n",
       "</div>\n",
       "<script type=\"application/javascript\">(function(root) {\n",
       "  function embed_document(root) {\n",
       "    var docs_json = {\"3be643c1-f729-465a-8e1d-b343be389111\":{\"defs\":[{\"extends\":null,\"module\":null,\"name\":\"ReactiveHTML1\",\"overrides\":[],\"properties\":[]},{\"extends\":null,\"module\":null,\"name\":\"FlexBox1\",\"overrides\":[],\"properties\":[{\"default\":\"flex-start\",\"kind\":null,\"name\":\"align_content\"},{\"default\":\"flex-start\",\"kind\":null,\"name\":\"align_items\"},{\"default\":\"row\",\"kind\":null,\"name\":\"flex_direction\"},{\"default\":\"wrap\",\"kind\":null,\"name\":\"flex_wrap\"},{\"default\":\"flex-start\",\"kind\":null,\"name\":\"justify_content\"}]},{\"extends\":null,\"module\":null,\"name\":\"GridStack1\",\"overrides\":[],\"properties\":[{\"default\":\"warn\",\"kind\":null,\"name\":\"mode\"},{\"default\":null,\"kind\":null,\"name\":\"ncols\"},{\"default\":null,\"kind\":null,\"name\":\"nrows\"},{\"default\":true,\"kind\":null,\"name\":\"allow_resize\"},{\"default\":true,\"kind\":null,\"name\":\"allow_drag\"},{\"default\":[],\"kind\":null,\"name\":\"state\"}]},{\"extends\":null,\"module\":null,\"name\":\"click1\",\"overrides\":[],\"properties\":[{\"default\":\"\",\"kind\":null,\"name\":\"terminal_output\"},{\"default\":\"\",\"kind\":null,\"name\":\"debug_name\"},{\"default\":0,\"kind\":null,\"name\":\"clears\"}]},{\"extends\":null,\"module\":null,\"name\":\"NotificationAreaBase1\",\"overrides\":[],\"properties\":[{\"default\":\"bottom-right\",\"kind\":null,\"name\":\"position\"},{\"default\":0,\"kind\":null,\"name\":\"_clear\"}]},{\"extends\":null,\"module\":null,\"name\":\"NotificationArea1\",\"overrides\":[],\"properties\":[{\"default\":[],\"kind\":null,\"name\":\"notifications\"},{\"default\":\"bottom-right\",\"kind\":null,\"name\":\"position\"},{\"default\":0,\"kind\":null,\"name\":\"_clear\"},{\"default\":[{\"background\":\"#ffc107\",\"icon\":{\"className\":\"fas fa-exclamation-triangle\",\"color\":\"white\",\"tagName\":\"i\"},\"type\":\"warning\"},{\"background\":\"#007bff\",\"icon\":{\"className\":\"fas fa-info-circle\",\"color\":\"white\",\"tagName\":\"i\"},\"type\":\"info\"}],\"kind\":null,\"name\":\"types\"}]},{\"extends\":null,\"module\":null,\"name\":\"Notification\",\"overrides\":[],\"properties\":[{\"default\":null,\"kind\":null,\"name\":\"background\"},{\"default\":3000,\"kind\":null,\"name\":\"duration\"},{\"default\":null,\"kind\":null,\"name\":\"icon\"},{\"default\":\"\",\"kind\":null,\"name\":\"message\"},{\"default\":null,\"kind\":null,\"name\":\"notification_type\"},{\"default\":false,\"kind\":null,\"name\":\"_destroyed\"}]},{\"extends\":null,\"module\":null,\"name\":\"TemplateActions1\",\"overrides\":[],\"properties\":[{\"default\":0,\"kind\":null,\"name\":\"open_modal\"},{\"default\":0,\"kind\":null,\"name\":\"close_modal\"}]},{\"extends\":null,\"module\":null,\"name\":\"MaterialTemplateActions1\",\"overrides\":[],\"properties\":[{\"default\":0,\"kind\":null,\"name\":\"open_modal\"},{\"default\":0,\"kind\":null,\"name\":\"close_modal\"}]}],\"roots\":{\"references\":[{\"attributes\":{\"margin\":[5,5,5,5],\"name\":\"HSpacer00865\",\"sizing_mode\":\"stretch_width\"},\"id\":\"1064\",\"type\":\"Spacer\"},{\"attributes\":{\"axis\":{\"id\":\"1016\"},\"coordinates\":null,\"grid_line_color\":null,\"group\":null,\"ticker\":null},\"id\":\"1019\",\"type\":\"Grid\"},{\"attributes\":{},\"id\":\"1021\",\"type\":\"BasicTicker\"},{\"attributes\":{\"margin\":[5,5,5,5],\"name\":\"HSpacer00864\",\"sizing_mode\":\"stretch_width\"},\"id\":\"1003\",\"type\":\"Spacer\"},{\"attributes\":{\"coordinates\":null,\"group\":null,\"text\":\"Elbow Curve\",\"text_color\":\"black\",\"text_font_size\":\"12pt\"},\"id\":\"1008\",\"type\":\"Title\"},{\"attributes\":{\"callback\":null,\"renderers\":[{\"id\":\"1043\"}],\"tags\":[\"hv_created\"],\"tooltips\":[[\"k\",\"@{k}\"],[\"inertia\",\"@{inertia}\"]]},\"id\":\"1006\",\"type\":\"HoverTool\"},{\"attributes\":{\"source\":{\"id\":\"1037\"}},\"id\":\"1044\",\"type\":\"CDSView\"},{\"attributes\":{\"children\":[{\"id\":\"1003\"},{\"id\":\"1007\"},{\"id\":\"1064\"}],\"margin\":[0,0,0,0],\"name\":\"Row00860\",\"tags\":[\"embedded\"]},\"id\":\"1002\",\"type\":\"Row\"},{\"attributes\":{},\"id\":\"1014\",\"type\":\"LinearScale\"},{\"attributes\":{\"end\":10.0,\"reset_end\":10.0,\"reset_start\":1.0,\"start\":1.0,\"tags\":[[[\"k\",\"k\",null]]]},\"id\":\"1004\",\"type\":\"Range1d\"},{\"attributes\":{\"axis_label\":\"inertia\",\"coordinates\":null,\"formatter\":{\"id\":\"1053\"},\"group\":null,\"major_label_policy\":{\"id\":\"1054\"},\"ticker\":{\"id\":\"1021\"}},\"id\":\"1020\",\"type\":\"LinearAxis\"},{\"attributes\":{\"overlay\":{\"id\":\"1029\"}},\"id\":\"1027\",\"type\":\"BoxZoomTool\"},{\"attributes\":{\"coordinates\":null,\"data_source\":{\"id\":\"1037\"},\"glyph\":{\"id\":\"1040\"},\"group\":null,\"hover_glyph\":null,\"muted_glyph\":{\"id\":\"1042\"},\"nonselection_glyph\":{\"id\":\"1041\"},\"selection_glyph\":{\"id\":\"1045\"},\"view\":{\"id\":\"1044\"}},\"id\":\"1043\",\"type\":\"GlyphRenderer\"},{\"attributes\":{\"axis_label\":\"k\",\"coordinates\":null,\"formatter\":{\"id\":\"1048\"},\"group\":null,\"major_label_policy\":{\"id\":\"1049\"},\"ticker\":{\"id\":\"1046\"}},\"id\":\"1016\",\"type\":\"LinearAxis\"},{\"attributes\":{\"line_color\":\"#30a2da\",\"line_width\":2,\"x\":{\"field\":\"k\"},\"y\":{\"field\":\"inertia\"}},\"id\":\"1040\",\"type\":\"Line\"},{\"attributes\":{},\"id\":\"1054\",\"type\":\"AllLabels\"},{\"attributes\":{},\"id\":\"1048\",\"type\":\"BasicTickFormatter\"},{\"attributes\":{\"axis\":{\"id\":\"1020\"},\"coordinates\":null,\"dimension\":1,\"grid_line_color\":null,\"group\":null,\"ticker\":null},\"id\":\"1023\",\"type\":\"Grid\"},{\"attributes\":{\"end\":133.0813846267923,\"reset_end\":133.0813846267923,\"reset_start\":5.771116646268204,\"start\":5.771116646268204,\"tags\":[[[\"inertia\",\"inertia\",null]]]},\"id\":\"1005\",\"type\":\"Range1d\"},{\"attributes\":{},\"id\":\"1038\",\"type\":\"Selection\"},{\"attributes\":{\"ticks\":[1,2,3,4,5,6,7,8,9,10]},\"id\":\"1046\",\"type\":\"FixedTicker\"},{\"attributes\":{\"tools\":[{\"id\":\"1006\"},{\"id\":\"1024\"},{\"id\":\"1025\"},{\"id\":\"1026\"},{\"id\":\"1027\"},{\"id\":\"1028\"}]},\"id\":\"1030\",\"type\":\"Toolbar\"},{\"attributes\":{\"below\":[{\"id\":\"1016\"}],\"center\":[{\"id\":\"1019\"},{\"id\":\"1023\"}],\"height\":300,\"left\":[{\"id\":\"1020\"}],\"margin\":[5,5,5,5],\"min_border_bottom\":10,\"min_border_left\":10,\"min_border_right\":10,\"min_border_top\":10,\"renderers\":[{\"id\":\"1043\"}],\"sizing_mode\":\"fixed\",\"title\":{\"id\":\"1008\"},\"toolbar\":{\"id\":\"1030\"},\"width\":700,\"x_range\":{\"id\":\"1004\"},\"x_scale\":{\"id\":\"1012\"},\"y_range\":{\"id\":\"1005\"},\"y_scale\":{\"id\":\"1014\"}},\"id\":\"1007\",\"subtype\":\"Figure\",\"type\":\"Plot\"},{\"attributes\":{\"line_color\":\"#30a2da\",\"line_width\":2,\"x\":{\"field\":\"k\"},\"y\":{\"field\":\"inertia\"}},\"id\":\"1045\",\"type\":\"Line\"},{\"attributes\":{},\"id\":\"1053\",\"type\":\"BasicTickFormatter\"},{\"attributes\":{\"data\":{\"inertia\":{\"__ndarray__\":\"51YDdDieXkCdAz/UIUVTQI9X0pzDOE1A1MINGDBMRUC/Y8Yo9k9BQNoJmBDlAj1ABpC/wKPON0DaXODIeSQ0QP5yM0agMzJAQjzytVthMEA=\",\"dtype\":\"float64\",\"order\":\"little\",\"shape\":[10]},\"k\":[1,2,3,4,5,6,7,8,9,10]},\"selected\":{\"id\":\"1038\"},\"selection_policy\":{\"id\":\"1061\"}},\"id\":\"1037\",\"type\":\"ColumnDataSource\"},{\"attributes\":{\"bottom_units\":\"screen\",\"coordinates\":null,\"fill_alpha\":0.5,\"fill_color\":\"lightgrey\",\"group\":null,\"left_units\":\"screen\",\"level\":\"overlay\",\"line_alpha\":1.0,\"line_color\":\"black\",\"line_dash\":[4,4],\"line_width\":2,\"right_units\":\"screen\",\"syncable\":false,\"top_units\":\"screen\"},\"id\":\"1029\",\"type\":\"BoxAnnotation\"},{\"attributes\":{},\"id\":\"1024\",\"type\":\"SaveTool\"},{\"attributes\":{},\"id\":\"1025\",\"type\":\"PanTool\"},{\"attributes\":{},\"id\":\"1028\",\"type\":\"ResetTool\"},{\"attributes\":{\"line_alpha\":0.2,\"line_color\":\"#30a2da\",\"line_width\":2,\"x\":{\"field\":\"k\"},\"y\":{\"field\":\"inertia\"}},\"id\":\"1042\",\"type\":\"Line\"},{\"attributes\":{},\"id\":\"1026\",\"type\":\"WheelZoomTool\"},{\"attributes\":{},\"id\":\"1049\",\"type\":\"AllLabels\"},{\"attributes\":{},\"id\":\"1061\",\"type\":\"UnionRenderers\"},{\"attributes\":{},\"id\":\"1012\",\"type\":\"LinearScale\"},{\"attributes\":{\"line_alpha\":0.1,\"line_color\":\"#30a2da\",\"line_width\":2,\"x\":{\"field\":\"k\"},\"y\":{\"field\":\"inertia\"}},\"id\":\"1041\",\"type\":\"Line\"}],\"root_ids\":[\"1002\"]},\"title\":\"Bokeh Application\",\"version\":\"2.4.3\"}};\n",
       "    var render_items = [{\"docid\":\"3be643c1-f729-465a-8e1d-b343be389111\",\"root_ids\":[\"1002\"],\"roots\":{\"1002\":\"1e1f2b6c-5c70-46d4-9ec7-1a8909272df1\"}}];\n",
       "    root.Bokeh.embed.embed_items_notebook(docs_json, render_items);\n",
       "    for (const render_item of render_items) {\n",
       "      for (const root_id of render_item.root_ids) {\n",
       "\tconst id_el = document.getElementById(root_id)\n",
       "\tif (id_el.children.length && (id_el.children[0].className === 'bk-root')) {\n",
       "\t  const root_el = id_el.children[0]\n",
       "\t  root_el.id = root_el.id + '-rendered'\n",
       "\t}\n",
       "      }\n",
       "    }\n",
       "  }\n",
       "  if (root.Bokeh !== undefined && root.Bokeh.Panel !== undefined) {\n",
       "    embed_document(root);\n",
       "  } else {\n",
       "    var attempts = 0;\n",
       "    var timer = setInterval(function(root) {\n",
       "      if (root.Bokeh !== undefined && root.Bokeh.Panel !== undefined) {\n",
       "        clearInterval(timer);\n",
       "        embed_document(root);\n",
       "      } else if (document.readyState == \"complete\") {\n",
       "        attempts++;\n",
       "        if (attempts > 200) {\n",
       "          clearInterval(timer);\n",
       "          console.log(\"Bokeh: ERROR: Unable to run BokehJS code because BokehJS library is missing\");\n",
       "        }\n",
       "      }\n",
       "    }, 25, root)\n",
       "  }\n",
       "})(window);</script>"
      ],
      "text/plain": [
       ":Curve   [k]   (inertia)"
      ]
     },
     "execution_count": 18,
     "metadata": {
      "application/vnd.holoviews_exec.v0+json": {
       "id": "1002"
      }
     },
     "output_type": "execute_result"
    }
   ],
   "source": [
    "# Plot the DataFrame\n",
    "df_elbow.hvplot.line(\n",
    "    x=\"k\", \n",
    "    y=\"inertia\", \n",
    "    title=\"Elbow Curve\", \n",
    "    xticks=k\n",
    ")"
   ]
  },
  {
   "cell_type": "markdown",
   "metadata": {},
   "source": [
    "## Using k-means with four clusters"
   ]
  },
  {
   "cell_type": "code",
   "execution_count": 19,
   "metadata": {},
   "outputs": [],
   "source": [
    "# Define the model with 4 clusters\n",
    "model = KMeans(n_clusters=4, random_state=1)\n",
    "\n",
    "# Fit the model\n",
    "model.fit(service_ratings_df)\n",
    "\n",
    "# Make predictions\n",
    "k_4 = model.predict(service_ratings_df)\n",
    "\n",
    "# Create a copy of the DataFrame\n",
    "service_ratings_predictions_df = service_ratings_df.copy()\n",
    "\n",
    "# Add a class column with the labels\n",
    "service_ratings_predictions_df['customer_segment'] = k_4"
   ]
  },
  {
   "cell_type": "code",
   "execution_count": 20,
   "metadata": {},
   "outputs": [
    {
     "data": {},
     "metadata": {},
     "output_type": "display_data"
    },
    {
     "data": {
      "application/vnd.holoviews_exec.v0+json": "",
      "text/html": [
       "<div id='1111'>\n",
       "  <div class=\"bk-root\" id=\"569d4752-b10d-42f2-8b6e-2f6ee2f3933e\" data-root-id=\"1111\"></div>\n",
       "</div>\n",
       "<script type=\"application/javascript\">(function(root) {\n",
       "  function embed_document(root) {\n",
       "    var docs_json = {\"23e76c6f-3669-4882-8e97-108bc1de2fda\":{\"defs\":[{\"extends\":null,\"module\":null,\"name\":\"ReactiveHTML1\",\"overrides\":[],\"properties\":[]},{\"extends\":null,\"module\":null,\"name\":\"FlexBox1\",\"overrides\":[],\"properties\":[{\"default\":\"flex-start\",\"kind\":null,\"name\":\"align_content\"},{\"default\":\"flex-start\",\"kind\":null,\"name\":\"align_items\"},{\"default\":\"row\",\"kind\":null,\"name\":\"flex_direction\"},{\"default\":\"wrap\",\"kind\":null,\"name\":\"flex_wrap\"},{\"default\":\"flex-start\",\"kind\":null,\"name\":\"justify_content\"}]},{\"extends\":null,\"module\":null,\"name\":\"GridStack1\",\"overrides\":[],\"properties\":[{\"default\":\"warn\",\"kind\":null,\"name\":\"mode\"},{\"default\":null,\"kind\":null,\"name\":\"ncols\"},{\"default\":null,\"kind\":null,\"name\":\"nrows\"},{\"default\":true,\"kind\":null,\"name\":\"allow_resize\"},{\"default\":true,\"kind\":null,\"name\":\"allow_drag\"},{\"default\":[],\"kind\":null,\"name\":\"state\"}]},{\"extends\":null,\"module\":null,\"name\":\"click1\",\"overrides\":[],\"properties\":[{\"default\":\"\",\"kind\":null,\"name\":\"terminal_output\"},{\"default\":\"\",\"kind\":null,\"name\":\"debug_name\"},{\"default\":0,\"kind\":null,\"name\":\"clears\"}]},{\"extends\":null,\"module\":null,\"name\":\"NotificationAreaBase1\",\"overrides\":[],\"properties\":[{\"default\":\"bottom-right\",\"kind\":null,\"name\":\"position\"},{\"default\":0,\"kind\":null,\"name\":\"_clear\"}]},{\"extends\":null,\"module\":null,\"name\":\"NotificationArea1\",\"overrides\":[],\"properties\":[{\"default\":[],\"kind\":null,\"name\":\"notifications\"},{\"default\":\"bottom-right\",\"kind\":null,\"name\":\"position\"},{\"default\":0,\"kind\":null,\"name\":\"_clear\"},{\"default\":[{\"background\":\"#ffc107\",\"icon\":{\"className\":\"fas fa-exclamation-triangle\",\"color\":\"white\",\"tagName\":\"i\"},\"type\":\"warning\"},{\"background\":\"#007bff\",\"icon\":{\"className\":\"fas fa-info-circle\",\"color\":\"white\",\"tagName\":\"i\"},\"type\":\"info\"}],\"kind\":null,\"name\":\"types\"}]},{\"extends\":null,\"module\":null,\"name\":\"Notification\",\"overrides\":[],\"properties\":[{\"default\":null,\"kind\":null,\"name\":\"background\"},{\"default\":3000,\"kind\":null,\"name\":\"duration\"},{\"default\":null,\"kind\":null,\"name\":\"icon\"},{\"default\":\"\",\"kind\":null,\"name\":\"message\"},{\"default\":null,\"kind\":null,\"name\":\"notification_type\"},{\"default\":false,\"kind\":null,\"name\":\"_destroyed\"}]},{\"extends\":null,\"module\":null,\"name\":\"TemplateActions1\",\"overrides\":[],\"properties\":[{\"default\":0,\"kind\":null,\"name\":\"open_modal\"},{\"default\":0,\"kind\":null,\"name\":\"close_modal\"}]},{\"extends\":null,\"module\":null,\"name\":\"MaterialTemplateActions1\",\"overrides\":[],\"properties\":[{\"default\":0,\"kind\":null,\"name\":\"open_modal\"},{\"default\":0,\"kind\":null,\"name\":\"close_modal\"}]}],\"roots\":{\"references\":[{\"attributes\":{\"coordinates\":null,\"data_source\":{\"id\":\"1222\"},\"glyph\":{\"id\":\"1225\"},\"group\":null,\"hover_glyph\":null,\"muted_glyph\":{\"id\":\"1227\"},\"nonselection_glyph\":{\"id\":\"1226\"},\"selection_glyph\":{\"id\":\"1247\"},\"view\":{\"id\":\"1229\"}},\"id\":\"1228\",\"type\":\"GlyphRenderer\"},{\"attributes\":{},\"id\":\"1133\",\"type\":\"BasicTicker\"},{\"attributes\":{\"axis\":{\"id\":\"1132\"},\"coordinates\":null,\"dimension\":1,\"grid_line_color\":null,\"group\":null,\"ticker\":null},\"id\":\"1135\",\"type\":\"Grid\"},{\"attributes\":{\"angle\":{\"value\":0.0},\"fill_alpha\":{\"value\":1.0},\"fill_color\":{\"value\":\"#fc4f30\"},\"hatch_alpha\":{\"value\":1.0},\"hatch_color\":{\"value\":\"#fc4f30\"},\"hatch_scale\":{\"value\":12.0},\"hatch_weight\":{\"value\":1.0},\"line_alpha\":{\"value\":1.0},\"line_cap\":{\"value\":\"butt\"},\"line_color\":{\"value\":\"#fc4f30\"},\"line_dash\":{\"value\":[]},\"line_dash_offset\":{\"value\":0},\"line_join\":{\"value\":\"bevel\"},\"line_width\":{\"value\":1},\"marker\":{\"value\":\"circle\"},\"size\":{\"value\":5.477225575051661},\"x\":{\"field\":\"mobile_app_rating\"},\"y\":{\"field\":\"personal_banker_rating\"}},\"id\":\"1197\",\"type\":\"Scatter\"},{\"attributes\":{\"fill_alpha\":{\"value\":0.1},\"fill_color\":{\"value\":\"#fc4f30\"},\"hatch_alpha\":{\"value\":0.1},\"hatch_color\":{\"value\":\"#fc4f30\"},\"line_alpha\":{\"value\":0.1},\"line_color\":{\"value\":\"#fc4f30\"},\"size\":{\"value\":5.477225575051661},\"x\":{\"field\":\"mobile_app_rating\"},\"y\":{\"field\":\"personal_banker_rating\"}},\"id\":\"1180\",\"type\":\"Scatter\"},{\"attributes\":{\"label\":{\"value\":\"1\"},\"renderers\":[{\"id\":\"1182\"}]},\"id\":\"1196\",\"type\":\"LegendItem\"},{\"attributes\":{\"angle\":{\"value\":0.0},\"fill_alpha\":{\"value\":1.0},\"fill_color\":{\"value\":\"#30a2da\"},\"hatch_alpha\":{\"value\":1.0},\"hatch_color\":{\"value\":\"#30a2da\"},\"hatch_scale\":{\"value\":12.0},\"hatch_weight\":{\"value\":1.0},\"line_alpha\":{\"value\":1.0},\"line_cap\":{\"value\":\"butt\"},\"line_color\":{\"value\":\"#30a2da\"},\"line_dash\":{\"value\":[]},\"line_dash_offset\":{\"value\":0},\"line_join\":{\"value\":\"bevel\"},\"line_width\":{\"value\":1},\"marker\":{\"value\":\"circle\"},\"size\":{\"value\":5.477225575051661},\"x\":{\"field\":\"mobile_app_rating\"},\"y\":{\"field\":\"personal_banker_rating\"}},\"id\":\"1175\",\"type\":\"Scatter\"},{\"attributes\":{\"margin\":[5,5,5,5],\"name\":\"HSpacer01037\",\"sizing_mode\":\"stretch_width\"},\"id\":\"1264\",\"type\":\"Spacer\"},{\"attributes\":{\"angle\":{\"value\":0.0},\"fill_alpha\":{\"value\":1.0},\"fill_color\":{\"value\":\"#e5ae38\"},\"hatch_alpha\":{\"value\":1.0},\"hatch_color\":{\"value\":\"#e5ae38\"},\"hatch_scale\":{\"value\":12.0},\"hatch_weight\":{\"value\":1.0},\"line_alpha\":{\"value\":1.0},\"line_cap\":{\"value\":\"butt\"},\"line_color\":{\"value\":\"#e5ae38\"},\"line_dash\":{\"value\":[]},\"line_dash_offset\":{\"value\":0},\"line_join\":{\"value\":\"bevel\"},\"line_width\":{\"value\":1},\"marker\":{\"value\":\"circle\"},\"size\":{\"value\":5.477225575051661},\"x\":{\"field\":\"mobile_app_rating\"},\"y\":{\"field\":\"personal_banker_rating\"}},\"id\":\"1221\",\"type\":\"Scatter\"},{\"attributes\":{\"coordinates\":null,\"data_source\":{\"id\":\"1198\"},\"glyph\":{\"id\":\"1201\"},\"group\":null,\"hover_glyph\":null,\"muted_glyph\":{\"id\":\"1203\"},\"nonselection_glyph\":{\"id\":\"1202\"},\"selection_glyph\":{\"id\":\"1221\"},\"view\":{\"id\":\"1205\"}},\"id\":\"1204\",\"type\":\"GlyphRenderer\"},{\"attributes\":{\"fill_alpha\":{\"value\":0.1},\"fill_color\":{\"value\":\"#6d904f\"},\"hatch_alpha\":{\"value\":0.1},\"hatch_color\":{\"value\":\"#6d904f\"},\"line_alpha\":{\"value\":0.1},\"line_color\":{\"value\":\"#6d904f\"},\"size\":{\"value\":5.477225575051661},\"x\":{\"field\":\"mobile_app_rating\"},\"y\":{\"field\":\"personal_banker_rating\"}},\"id\":\"1226\",\"type\":\"Scatter\"},{\"attributes\":{\"coordinates\":null,\"group\":null,\"text_color\":\"black\",\"text_font_size\":\"12pt\"},\"id\":\"1120\",\"type\":\"Title\"},{\"attributes\":{\"end\":4.832428571428571,\"reset_end\":4.832428571428571,\"reset_start\":0.7175714285714285,\"start\":0.7175714285714285,\"tags\":[[[\"mobile_app_rating\",\"mobile_app_rating\",null]]]},\"id\":\"1113\",\"type\":\"Range1d\"},{\"attributes\":{\"coordinates\":null,\"data_source\":{\"id\":\"1176\"},\"glyph\":{\"id\":\"1179\"},\"group\":null,\"hover_glyph\":null,\"muted_glyph\":{\"id\":\"1181\"},\"nonselection_glyph\":{\"id\":\"1180\"},\"selection_glyph\":{\"id\":\"1197\"},\"view\":{\"id\":\"1183\"}},\"id\":\"1182\",\"type\":\"GlyphRenderer\"},{\"attributes\":{\"fill_alpha\":{\"value\":0.2},\"fill_color\":{\"value\":\"#30a2da\"},\"hatch_alpha\":{\"value\":0.2},\"hatch_color\":{\"value\":\"#30a2da\"},\"line_alpha\":{\"value\":0.2},\"line_color\":{\"value\":\"#30a2da\"},\"size\":{\"value\":5.477225575051661},\"x\":{\"field\":\"mobile_app_rating\"},\"y\":{\"field\":\"personal_banker_rating\"}},\"id\":\"1160\",\"type\":\"Scatter\"},{\"attributes\":{},\"id\":\"1217\",\"type\":\"UnionRenderers\"},{\"attributes\":{\"bottom_units\":\"screen\",\"coordinates\":null,\"fill_alpha\":0.5,\"fill_color\":\"lightgrey\",\"group\":null,\"left_units\":\"screen\",\"level\":\"overlay\",\"line_alpha\":1.0,\"line_color\":\"black\",\"line_dash\":[4,4],\"line_width\":2,\"right_units\":\"screen\",\"syncable\":false,\"top_units\":\"screen\"},\"id\":\"1141\",\"type\":\"BoxAnnotation\"},{\"attributes\":{},\"id\":\"1136\",\"type\":\"SaveTool\"},{\"attributes\":{},\"id\":\"1151\",\"type\":\"AllLabels\"},{\"attributes\":{},\"id\":\"1137\",\"type\":\"PanTool\"},{\"attributes\":{},\"id\":\"1193\",\"type\":\"UnionRenderers\"},{\"attributes\":{\"callback\":null,\"renderers\":[{\"id\":\"1161\"},{\"id\":\"1182\"},{\"id\":\"1204\"},{\"id\":\"1228\"}],\"tags\":[\"hv_created\"],\"tooltips\":[[\"customer_segment\",\"@{customer_segment}\"],[\"mobile_app_rating\",\"@{mobile_app_rating}\"],[\"personal_banker_rating\",\"@{personal_banker_rating}\"]]},\"id\":\"1115\",\"type\":\"HoverTool\"},{\"attributes\":{},\"id\":\"1140\",\"type\":\"ResetTool\"},{\"attributes\":{\"end\":5.263,\"reset_end\":5.263,\"reset_start\":0.06699999999999995,\"start\":0.06699999999999995,\"tags\":[[[\"personal_banker_rating\",\"personal_banker_rating\",null]]]},\"id\":\"1114\",\"type\":\"Range1d\"},{\"attributes\":{},\"id\":\"1138\",\"type\":\"WheelZoomTool\"},{\"attributes\":{},\"id\":\"1223\",\"type\":\"Selection\"},{\"attributes\":{\"overlay\":{\"id\":\"1141\"}},\"id\":\"1139\",\"type\":\"BoxZoomTool\"},{\"attributes\":{},\"id\":\"1199\",\"type\":\"Selection\"},{\"attributes\":{\"source\":{\"id\":\"1155\"}},\"id\":\"1162\",\"type\":\"CDSView\"},{\"attributes\":{\"source\":{\"id\":\"1222\"}},\"id\":\"1229\",\"type\":\"CDSView\"},{\"attributes\":{\"fill_alpha\":{\"value\":0.1},\"fill_color\":{\"value\":\"#e5ae38\"},\"hatch_alpha\":{\"value\":0.1},\"hatch_color\":{\"value\":\"#e5ae38\"},\"line_alpha\":{\"value\":0.1},\"line_color\":{\"value\":\"#e5ae38\"},\"size\":{\"value\":5.477225575051661},\"x\":{\"field\":\"mobile_app_rating\"},\"y\":{\"field\":\"personal_banker_rating\"}},\"id\":\"1202\",\"type\":\"Scatter\"},{\"attributes\":{\"axis_label\":\"personal_banker_rating\",\"coordinates\":null,\"formatter\":{\"id\":\"1153\"},\"group\":null,\"major_label_policy\":{\"id\":\"1154\"},\"ticker\":{\"id\":\"1133\"}},\"id\":\"1132\",\"type\":\"LinearAxis\"},{\"attributes\":{\"data\":{\"customer_segment\":[0,0,0,0,0,0,0,0,0,0,0,0,0,0,0,0,0,0,0,0,0,0,0,0,0,0,0,0,0,0,0,0,0,0,0,0,0,0,0,0,0,0,0,0,0,0,0,0,0,0,0,0,0,0,0,0,0,0,0,0,0,0,0,0,0,0,0,0,0,0,0,0,0,0,0,0],\"mobile_app_rating\":{\"__ndarray__\":\"MzMzMzMzB0BxPQrXo3AHQB+F61G4HgdA4XoUrkfhBEB7FK5H4XoKQAAAAAAAAAhAZmZmZmZmCkBcj8L1KFwHQKRwPQrXowpAAAAAAAAABkBxPQrXo3AHQKRwPQrXowJAAAAAAAAACED2KFyPwvUGQLgehetRuAhAXI/C9ShcA0AAAAAAAAAIQM3MzMzMzARAcT0K16NwB0AfhetRuB4JQFK4HoXrUQpASOF6FK5HB0AAAAAAAAAIQHsUrkfheghAAAAAAAAACkAzMzMzMzMHQArXo3A9CgdAFK5H4XoUCkCF61G4HoUDQKRwPQrXowZAzczMzMzMCkBcj8L1KFwHQD0K16NwPQZAH4XrUbgeA0ApXI/C9SgKQFyPwvUoXAVAexSuR+F6CECkcD0K16MKQKRwPQrXowRAUrgehetRCkD2KFyPwvUEQK5H4XoUrglApHA9CtejCEDhehSuR+EGQI/C9ShcjwhA16NwPQrXCUAzMzMzMzMHQMP1KFyPwglAzczMzMzMCEBSuB6F61EIQI/C9ShcjwRA4XoUrkfhBkCkcD0K16MKQKRwPQrXowZAj8L1KFyPBkCkcD0K16MGQI/C9ShcjwhAAAAAAAAAAEDsUbgehesJQClcj8L1KAhAcT0K16NwB0C4HoXrUbgKQKRwPQrXowJAmpmZmZmZCUAAAAAAAAAIQAAAAAAAAAZAUrgehetRCEB7FK5H4XoIQFK4HoXrUQhAZmZmZmZmBkAAAAAAAAAIQAAAAAAAAAhAAAAAAAAACkAK16NwPQoLQDMzMzMzMwNAAAAAAAAACkA=\",\"dtype\":\"float64\",\"order\":\"little\",\"shape\":[76]},\"personal_banker_rating\":{\"__ndarray__\":\"AAAAAAAABkDhehSuR+EKQPYoXI/C9QRAFK5H4XoUBED2KFyPwvUIQFyPwvUoXAlApHA9CtejBkBcj8L1KFwBQJqZmZmZmQVAMzMzMzMzBUBxPQrXo3ALQMP1KFyPwgVAH4XrUbgeB0ApXI/C9SgIQAAAAAAAAAZA16NwPQrXB0Bcj8L1KFwFQI/C9ShcjwRAuB6F61G4DEApXI/C9SgIQAAAAAAAAAhA7FG4HoXrB0AAAAAAAAAEQFK4HoXrUQhAXI/C9ShcBUC4HoXrUbgGQKRwPQrXowpAw/UoXI/CB0AzMzMzMzMHQAAAAAAAAAhApHA9CtejBkCPwvUoXI8IQAAAAAAAAAhAuB6F61G4BEA9CtejcD0IQAAAAAAAAAZAzczMzMzMBkAAAAAAAAAEQAAAAAAAAARAzczMzMzMBkAAAAAAAAAIQPYoXI/C9QRAw/UoXI/CA0CuR+F6FK4DQHE9CtejcAVAAAAAAAAABEAAAAAAAAAEQLgehetRuAZA4XoUrkfhBkDhehSuR+EIQGZmZmZmZgBAw/UoXI/CBUBcj8L1KFwHQHE9CtejcAVAFK5H4XoUBkAK16NwPQoDQHE9CtejcAdAXI/C9ShcBUDNzMzMzMwIQM3MzMzMzAhAZmZmZmZmCkB7FK5H4XoGQAAAAAAAAAhApHA9CtejAkCPwvUoXI8EQFyPwvUoXAlAXI/C9ShcBUDNzMzMzMwEQArXo3A9CgdAhetRuB6FBUBSuB6F61EGQGZmZmZmZgZArkfhehSuBUCuR+F6FK4FQGZmZmZmZgZACtejcD0KB0A=\",\"dtype\":\"float64\",\"order\":\"little\",\"shape\":[76]}},\"selected\":{\"id\":\"1156\"},\"selection_policy\":{\"id\":\"1170\"}},\"id\":\"1155\",\"type\":\"ColumnDataSource\"},{\"attributes\":{\"angle\":{\"value\":0.0},\"fill_alpha\":{\"value\":1.0},\"fill_color\":{\"value\":\"#6d904f\"},\"hatch_alpha\":{\"value\":1.0},\"hatch_color\":{\"value\":\"#6d904f\"},\"hatch_scale\":{\"value\":12.0},\"hatch_weight\":{\"value\":1.0},\"line_alpha\":{\"value\":1.0},\"line_cap\":{\"value\":\"butt\"},\"line_color\":{\"value\":\"#6d904f\"},\"line_dash\":{\"value\":[]},\"line_dash_offset\":{\"value\":0},\"line_join\":{\"value\":\"bevel\"},\"line_width\":{\"value\":1},\"marker\":{\"value\":\"circle\"},\"size\":{\"value\":5.477225575051661},\"x\":{\"field\":\"mobile_app_rating\"},\"y\":{\"field\":\"personal_banker_rating\"}},\"id\":\"1247\",\"type\":\"Scatter\"},{\"attributes\":{\"tools\":[{\"id\":\"1115\"},{\"id\":\"1136\"},{\"id\":\"1137\"},{\"id\":\"1138\"},{\"id\":\"1139\"},{\"id\":\"1140\"}]},\"id\":\"1142\",\"type\":\"Toolbar\"},{\"attributes\":{},\"id\":\"1177\",\"type\":\"Selection\"},{\"attributes\":{},\"id\":\"1243\",\"type\":\"UnionRenderers\"},{\"attributes\":{\"fill_alpha\":{\"value\":0.1},\"fill_color\":{\"value\":\"#30a2da\"},\"hatch_alpha\":{\"value\":0.1},\"hatch_color\":{\"value\":\"#30a2da\"},\"line_alpha\":{\"value\":0.1},\"line_color\":{\"value\":\"#30a2da\"},\"size\":{\"value\":5.477225575051661},\"x\":{\"field\":\"mobile_app_rating\"},\"y\":{\"field\":\"personal_banker_rating\"}},\"id\":\"1159\",\"type\":\"Scatter\"},{\"attributes\":{\"fill_alpha\":{\"value\":0.2},\"fill_color\":{\"value\":\"#6d904f\"},\"hatch_alpha\":{\"value\":0.2},\"hatch_color\":{\"value\":\"#6d904f\"},\"line_alpha\":{\"value\":0.2},\"line_color\":{\"value\":\"#6d904f\"},\"size\":{\"value\":5.477225575051661},\"x\":{\"field\":\"mobile_app_rating\"},\"y\":{\"field\":\"personal_banker_rating\"}},\"id\":\"1227\",\"type\":\"Scatter\"},{\"attributes\":{\"data\":{\"customer_segment\":[1,1,1,1,1,1,1,1,1,1,1,1,1,1,1,1,1,1,1,1,1,1,1,1,1,1,1,1,1,1,1,1,1,1,1,1,1,1,1,1,1,1,1,1,1,1,1,1,1,1,1,1,1,1,1,1,1,1,1,1,1,1,1,1,1,1,1],\"mobile_app_rating\":{\"__ndarray__\":\"MzMzMzMzDUAUrkfhehQOQAAAAAAAABFAAAAAAAAADkBI4XoUrkcLQFK4HoXrURFAXI/C9ShcDUBxPQrXo3ANQM3MzMzMzApAcT0K16NwDUDhehSuR+EQQB+F61G4HgtAAAAAAAAAEkA9CtejcD0SQFyPwvUoXBBAH4XrUbgeD0AAAAAAAAASQDMzMzMzMwtAhetRuB6FC0DhehSuR+EOQD0K16NwPQ5AcT0K16NwDUD2KFyPwvUMQD0K16NwPQxAH4XrUbgeDUAAAAAAAAAMQEjhehSuRwtA7FG4HoXrC0CF61G4HoULQJqZmZmZmQ1AAAAAAAAAEECuR+F6FK4SQAAAAAAAABJAAAAAAAAADECPwvUoXI8QQGZmZmZmZgxAMzMzMzMzC0CamZmZmZkNQEjhehSuRw9A9ihcj8L1CkAAAAAAAAAOQEjhehSuRwtAZmZmZmZmDECuR+F6FK4PQFyPwvUoXA9Aj8L1KFyPDkBcj8L1KFwNQAAAAAAAAAxAw/UoXI/CC0AfhetRuB4LQAAAAAAAAAxArkfhehSuC0C4HoXrUbgKQAAAAAAAAAxA4XoUrkfhDkA9CtejcD0QQB+F61G4Hg1AuB6F61G4DEDhehSuR+EKQM3MzMzMzBBAexSuR+F6DkDD9Shcj8IQQFyPwvUoXA1AUrgehetREkAK16NwPQoNQIXrUbgehQtAuB6F61G4DEA=\",\"dtype\":\"float64\",\"order\":\"little\",\"shape\":[67]},\"personal_banker_rating\":{\"__ndarray__\":\"H4XrUbgeCUCPwvUoXI8IQAAAAAAAAAhA9ihcj8L1CEC4HoXrUbgIQAAAAAAAAARAKVyPwvUoBkBxPQrXo3AHQFyPwvUoXAlAH4XrUbgeCUAAAAAAAAAIQHE9CtejcAlAZmZmZmZmBEBcj8L1KFwJQAAAAAAAAARApHA9CtejBkAAAAAAAAAIQAAAAAAAAAhAXI/C9ShcCUAAAAAAAAAEQAAAAAAAAAhAhetRuB6FCUBmZmZmZmYGQM3MzMzMzAZAAAAAAAAACEAAAAAAAAAIQArXo3A9CgVAhetRuB6FCUAAAAAAAAAIQAAAAAAAAAhApHA9CtejBkAzMzMzMzMHQFyPwvUoXAlApHA9CtejBkDNzMzMzMwGQGZmZmZmZgZApHA9CtejCEAAAAAAAAAEQAAAAAAAAARAhetRuB6FCUAAAAAAAAAIQDMzMzMzMwdAAAAAAAAACEAAAAAAAAAIQArXo3A9CglAAAAAAAAACEAAAAAAAAAIQAAAAAAAAAhAXI/C9ShcBUAzMzMzMzMHQFyPwvUoXAlAAAAAAAAABkApXI/C9SgIQB+F61G4HgdAAAAAAAAACEBI4XoUrkcFQFyPwvUoXAVAAAAAAAAACECPwvUoXI8IQFyPwvUoXAlAuB6F61G4CEAzMzMzMzMHQAAAAAAAAAhAXI/C9ShcCUCkcD0K16MEQAAAAAAAAAhAZmZmZmZmDkA=\",\"dtype\":\"float64\",\"order\":\"little\",\"shape\":[67]}},\"selected\":{\"id\":\"1177\"},\"selection_policy\":{\"id\":\"1193\"}},\"id\":\"1176\",\"type\":\"ColumnDataSource\"},{\"attributes\":{},\"id\":\"1154\",\"type\":\"AllLabels\"},{\"attributes\":{\"fill_color\":{\"value\":\"#fc4f30\"},\"hatch_color\":{\"value\":\"#fc4f30\"},\"line_color\":{\"value\":\"#fc4f30\"},\"size\":{\"value\":5.477225575051661},\"x\":{\"field\":\"mobile_app_rating\"},\"y\":{\"field\":\"personal_banker_rating\"}},\"id\":\"1179\",\"type\":\"Scatter\"},{\"attributes\":{\"below\":[{\"id\":\"1128\"}],\"center\":[{\"id\":\"1131\"},{\"id\":\"1135\"}],\"height\":300,\"left\":[{\"id\":\"1132\"}],\"margin\":[5,5,5,5],\"min_border_bottom\":10,\"min_border_left\":10,\"min_border_right\":10,\"min_border_top\":10,\"renderers\":[{\"id\":\"1161\"},{\"id\":\"1182\"},{\"id\":\"1204\"},{\"id\":\"1228\"}],\"right\":[{\"id\":\"1173\"}],\"sizing_mode\":\"fixed\",\"title\":{\"id\":\"1120\"},\"toolbar\":{\"id\":\"1142\"},\"width\":700,\"x_range\":{\"id\":\"1113\"},\"x_scale\":{\"id\":\"1124\"},\"y_range\":{\"id\":\"1114\"},\"y_scale\":{\"id\":\"1126\"}},\"id\":\"1119\",\"subtype\":\"Figure\",\"type\":\"Plot\"},{\"attributes\":{\"data\":{\"customer_segment\":[3,3,3,3,3,3,3,3,3,3,3,3,3,3,3,3,3,3,3,3,3,3,3,3,3],\"mobile_app_rating\":{\"__ndarray__\":\"AAAAAAAADECuR+F6FK4PQHsUrkfheg5AuB6F61G4EEAzMzMzMzMLQJqZmZmZmQlAcT0K16NwC0Bcj8L1KFwNQAAAAAAAABBA9ihcj8L1DEBxPQrXo3AQQDMzMzMzMw9AAAAAAAAADkAAAAAAAAAQQOxRuB6F6w1AmpmZmZmZCUAAAAAAAAAMQB+F61G4HgtAFK5H4XoUEUCF61G4HoUJQK5H4XoUrg1AAAAAAAAAEEAAAAAAAAAMQK5H4XoUrgtAAAAAAAAADEA=\",\"dtype\":\"float64\",\"order\":\"little\",\"shape\":[25]},\"personal_banker_rating\":{\"__ndarray__\":\"MzMzMzMzA0AAAAAAAAAAQArXo3A9CgNAAAAAAAAA4D8AAAAAAAAAQAAAAAAAAABAAAAAAAAA8D8AAAAAAAAAQAAAAAAAAABAAAAAAAAAAEAAAAAAAAAAQAAAAAAAAOA/9ihcj8L1+D8AAAAAAAAAQDMzMzMzMwNAXI/C9ShcAUCkcD0K16MCQPYoXI/C9fw/AAAAAAAAAEBI4XoUrkf9P1yPwvUoXAFAMzMzMzMzA0BmZmZmZmYCQJqZmZmZmQNAMzMzMzMzA0A=\",\"dtype\":\"float64\",\"order\":\"little\",\"shape\":[25]}},\"selected\":{\"id\":\"1223\"},\"selection_policy\":{\"id\":\"1243\"}},\"id\":\"1222\",\"type\":\"ColumnDataSource\"},{\"attributes\":{\"children\":[{\"id\":\"1112\"},{\"id\":\"1119\"},{\"id\":\"1264\"}],\"margin\":[0,0,0,0],\"name\":\"Row01032\",\"tags\":[\"embedded\"]},\"id\":\"1111\",\"type\":\"Row\"},{\"attributes\":{\"click_policy\":\"mute\",\"coordinates\":null,\"group\":null,\"items\":[{\"id\":\"1174\"},{\"id\":\"1196\"},{\"id\":\"1220\"},{\"id\":\"1246\"}],\"location\":[0,0],\"title\":\"customer_segment\"},\"id\":\"1173\",\"type\":\"Legend\"},{\"attributes\":{\"data\":{\"customer_segment\":[2,2,2,2,2,2,2,2,2,2,2,2,2,2,2],\"mobile_app_rating\":{\"__ndarray__\":\"KVyPwvUo7D8AAAAAAAAEQFyPwvUoXAFAAAAAAAAAAEAfhetRuB4HQAAAAAAAAAJAAAAAAAAA8D8AAAAAAAAGQPYoXI/C9QZAAAAAAAAAAEBmZmZmZmYCQEjhehSuR/k/AAAAAAAA/D9I4XoUrkcFQAAAAAAAAABA\",\"dtype\":\"float64\",\"order\":\"little\",\"shape\":[15]},\"personal_banker_rating\":{\"__ndarray__\":\"AAAAAAAACEA9CtejcD0QQAAAAAAAAAhAAAAAAAAADkBmZmZmZmYOQAAAAAAAAApAAAAAAAAAEkDXo3A9CtcQQFyPwvUoXA1AexSuR+F6DEAAAAAAAAAMQOF6FK5H4QZAAAAAAAAAEEBcj8L1KFwLQFK4HoXrURNA\",\"dtype\":\"float64\",\"order\":\"little\",\"shape\":[15]}},\"selected\":{\"id\":\"1199\"},\"selection_policy\":{\"id\":\"1217\"}},\"id\":\"1198\",\"type\":\"ColumnDataSource\"},{\"attributes\":{\"fill_color\":{\"value\":\"#30a2da\"},\"hatch_color\":{\"value\":\"#30a2da\"},\"line_color\":{\"value\":\"#30a2da\"},\"size\":{\"value\":5.477225575051661},\"x\":{\"field\":\"mobile_app_rating\"},\"y\":{\"field\":\"personal_banker_rating\"}},\"id\":\"1158\",\"type\":\"Scatter\"},{\"attributes\":{\"margin\":[5,5,5,5],\"name\":\"HSpacer01036\",\"sizing_mode\":\"stretch_width\"},\"id\":\"1112\",\"type\":\"Spacer\"},{\"attributes\":{},\"id\":\"1153\",\"type\":\"BasicTickFormatter\"},{\"attributes\":{},\"id\":\"1156\",\"type\":\"Selection\"},{\"attributes\":{\"fill_color\":{\"value\":\"#e5ae38\"},\"hatch_color\":{\"value\":\"#e5ae38\"},\"line_color\":{\"value\":\"#e5ae38\"},\"size\":{\"value\":5.477225575051661},\"x\":{\"field\":\"mobile_app_rating\"},\"y\":{\"field\":\"personal_banker_rating\"}},\"id\":\"1201\",\"type\":\"Scatter\"},{\"attributes\":{},\"id\":\"1124\",\"type\":\"LinearScale\"},{\"attributes\":{},\"id\":\"1129\",\"type\":\"BasicTicker\"},{\"attributes\":{\"axis\":{\"id\":\"1128\"},\"coordinates\":null,\"grid_line_color\":null,\"group\":null,\"ticker\":null},\"id\":\"1131\",\"type\":\"Grid\"},{\"attributes\":{\"source\":{\"id\":\"1198\"}},\"id\":\"1205\",\"type\":\"CDSView\"},{\"attributes\":{\"fill_alpha\":{\"value\":0.2},\"fill_color\":{\"value\":\"#e5ae38\"},\"hatch_alpha\":{\"value\":0.2},\"hatch_color\":{\"value\":\"#e5ae38\"},\"line_alpha\":{\"value\":0.2},\"line_color\":{\"value\":\"#e5ae38\"},\"size\":{\"value\":5.477225575051661},\"x\":{\"field\":\"mobile_app_rating\"},\"y\":{\"field\":\"personal_banker_rating\"}},\"id\":\"1203\",\"type\":\"Scatter\"},{\"attributes\":{\"fill_color\":{\"value\":\"#6d904f\"},\"hatch_color\":{\"value\":\"#6d904f\"},\"line_color\":{\"value\":\"#6d904f\"},\"size\":{\"value\":5.477225575051661},\"x\":{\"field\":\"mobile_app_rating\"},\"y\":{\"field\":\"personal_banker_rating\"}},\"id\":\"1225\",\"type\":\"Scatter\"},{\"attributes\":{},\"id\":\"1126\",\"type\":\"LinearScale\"},{\"attributes\":{\"label\":{\"value\":\"3\"},\"renderers\":[{\"id\":\"1228\"}]},\"id\":\"1246\",\"type\":\"LegendItem\"},{\"attributes\":{},\"id\":\"1170\",\"type\":\"UnionRenderers\"},{\"attributes\":{\"coordinates\":null,\"data_source\":{\"id\":\"1155\"},\"glyph\":{\"id\":\"1158\"},\"group\":null,\"hover_glyph\":null,\"muted_glyph\":{\"id\":\"1160\"},\"nonselection_glyph\":{\"id\":\"1159\"},\"selection_glyph\":{\"id\":\"1175\"},\"view\":{\"id\":\"1162\"}},\"id\":\"1161\",\"type\":\"GlyphRenderer\"},{\"attributes\":{\"source\":{\"id\":\"1176\"}},\"id\":\"1183\",\"type\":\"CDSView\"},{\"attributes\":{\"label\":{\"value\":\"2\"},\"renderers\":[{\"id\":\"1204\"}]},\"id\":\"1220\",\"type\":\"LegendItem\"},{\"attributes\":{\"axis_label\":\"mobile_app_rating\",\"coordinates\":null,\"formatter\":{\"id\":\"1150\"},\"group\":null,\"major_label_policy\":{\"id\":\"1151\"},\"ticker\":{\"id\":\"1129\"}},\"id\":\"1128\",\"type\":\"LinearAxis\"},{\"attributes\":{\"fill_alpha\":{\"value\":0.2},\"fill_color\":{\"value\":\"#fc4f30\"},\"hatch_alpha\":{\"value\":0.2},\"hatch_color\":{\"value\":\"#fc4f30\"},\"line_alpha\":{\"value\":0.2},\"line_color\":{\"value\":\"#fc4f30\"},\"size\":{\"value\":5.477225575051661},\"x\":{\"field\":\"mobile_app_rating\"},\"y\":{\"field\":\"personal_banker_rating\"}},\"id\":\"1181\",\"type\":\"Scatter\"},{\"attributes\":{\"label\":{\"value\":\"0\"},\"renderers\":[{\"id\":\"1161\"}]},\"id\":\"1174\",\"type\":\"LegendItem\"},{\"attributes\":{},\"id\":\"1150\",\"type\":\"BasicTickFormatter\"}],\"root_ids\":[\"1111\"]},\"title\":\"Bokeh Application\",\"version\":\"2.4.3\"}};\n",
       "    var render_items = [{\"docid\":\"23e76c6f-3669-4882-8e97-108bc1de2fda\",\"root_ids\":[\"1111\"],\"roots\":{\"1111\":\"569d4752-b10d-42f2-8b6e-2f6ee2f3933e\"}}];\n",
       "    root.Bokeh.embed.embed_items_notebook(docs_json, render_items);\n",
       "    for (const render_item of render_items) {\n",
       "      for (const root_id of render_item.root_ids) {\n",
       "\tconst id_el = document.getElementById(root_id)\n",
       "\tif (id_el.children.length && (id_el.children[0].className === 'bk-root')) {\n",
       "\t  const root_el = id_el.children[0]\n",
       "\t  root_el.id = root_el.id + '-rendered'\n",
       "\t}\n",
       "      }\n",
       "    }\n",
       "  }\n",
       "  if (root.Bokeh !== undefined && root.Bokeh.Panel !== undefined) {\n",
       "    embed_document(root);\n",
       "  } else {\n",
       "    var attempts = 0;\n",
       "    var timer = setInterval(function(root) {\n",
       "      if (root.Bokeh !== undefined && root.Bokeh.Panel !== undefined) {\n",
       "        clearInterval(timer);\n",
       "        embed_document(root);\n",
       "      } else if (document.readyState == \"complete\") {\n",
       "        attempts++;\n",
       "        if (attempts > 200) {\n",
       "          clearInterval(timer);\n",
       "          console.log(\"Bokeh: ERROR: Unable to run BokehJS code because BokehJS library is missing\");\n",
       "        }\n",
       "      }\n",
       "    }, 25, root)\n",
       "  }\n",
       "})(window);</script>"
      ],
      "text/plain": [
       ":NdOverlay   [customer_segment]\n",
       "   :Scatter   [mobile_app_rating]   (personal_banker_rating)"
      ]
     },
     "execution_count": 20,
     "metadata": {
      "application/vnd.holoviews_exec.v0+json": {
       "id": "1111"
      }
     },
     "output_type": "execute_result"
    }
   ],
   "source": [
    "# Plot the clusters\n",
    "service_ratings_predictions_df.hvplot.scatter(\n",
    "    x=\"mobile_app_rating\",\n",
    "    y=\"personal_banker_rating\",\n",
    "    by=\"customer_segment\"\n",
    ")"
   ]
  }
 ],
 "metadata": {
  "kernelspec": {
   "display_name": "Python 3 (ipykernel)",
   "language": "python",
   "name": "python3"
  },
  "language_info": {
   "codemirror_mode": {
    "name": "ipython",
    "version": 3
   },
   "file_extension": ".py",
   "mimetype": "text/x-python",
   "name": "python",
   "nbconvert_exporter": "python",
   "pygments_lexer": "ipython3",
   "version": "3.7.13"
  }
 },
 "nbformat": 4,
 "nbformat_minor": 4
}
